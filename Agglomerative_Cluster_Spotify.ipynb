{
 "cells": [
  {
   "cell_type": "code",
   "execution_count": 1,
   "metadata": {},
   "outputs": [
    {
     "name": "stdout",
     "output_type": "stream",
     "text": [
      "<class 'pandas.core.frame.DataFrame'>\n",
      "RangeIndex: 57650 entries, 0 to 57649\n",
      "Data columns (total 4 columns):\n",
      " #   Column  Non-Null Count  Dtype \n",
      "---  ------  --------------  ----- \n",
      " 0   artist  57650 non-null  object\n",
      " 1   song    57650 non-null  object\n",
      " 2   link    57650 non-null  object\n",
      " 3   text    57650 non-null  object\n",
      "dtypes: object(4)\n",
      "memory usage: 1.8+ MB\n"
     ]
    }
   ],
   "source": [
    "import pandas as pd\n",
    "\n",
    "df = pd.read_csv('data/spotify_millsongdata.csv')\n",
    "df.head()\n",
    "df.info()\n",
    "data = df.text.to_list()\n"
   ]
  },
  {
   "cell_type": "code",
   "execution_count": 2,
   "metadata": {},
   "outputs": [],
   "source": [
    "import nltk\n",
    "from sklearn.decomposition import PCA, SparsePCA\n",
    "from sklearn.preprocessing import StandardScaler\n",
    "from sklearn.feature_extraction.text import CountVectorizer, TfidfTransformer\n",
    "from nltk.stem import WordNetLemmatizer\n",
    "from nltk.corpus import stopwords\n",
    "\n",
    "# nltk.download('wordnet')\n",
    "# nltk.download('stopwords')\n",
    "stopwords = set(stopwords.words('english'))"
   ]
  },
  {
   "cell_type": "code",
   "execution_count": 3,
   "metadata": {},
   "outputs": [],
   "source": [
    "cleaned_data = []\n",
    "for sentence in data:\n",
    "    cleaned_data.append(' '.join([word.lower() for word in sentence.split() if word.lower() not in stopwords]))"
   ]
  },
  {
   "cell_type": "code",
   "execution_count": 4,
   "metadata": {},
   "outputs": [],
   "source": [
    "import numpy as np\n",
    "from nltk.stem import LancasterStemmer\n",
    "\n",
    "stem = LancasterStemmer()\n",
    "stemmed_data = []\n",
    "\n",
    "def stem_data(data):\n",
    "    stem = LancasterStemmer()\n",
    "    stemmed_sentences = []\n",
    "    for sentence in data:\n",
    "        stemmed_sentence = []\n",
    "        for word in sentence.split():\n",
    "            stemmed_word = stem.stem(word)\n",
    "            stemmed_sentence.append(stemmed_word)\n",
    "        stemmed_sentences.append(' '.join(stemmed_sentence))\n",
    "\n",
    "    return stemmed_sentences\n",
    "\n",
    "stemmed_data = stem_data(cleaned_data)\n"
   ]
  },
  {
   "cell_type": "code",
   "execution_count": 5,
   "metadata": {},
   "outputs": [
    {
     "data": {
      "text/plain": [
       "\"look face, wond fac mean someth spec look way smil see lucky on fellow be? kind girl, mak feel fin could ev believ could mine? kind girl, without i'm blu ev leav could do, could do? go walk park hold squeez hand we'll go walk hour talk thing plan kind girl, mak feel fin could ev believ could mine? kind girl, without i'm blu ev leav could do, could do?\""
      ]
     },
     "execution_count": 5,
     "metadata": {},
     "output_type": "execute_result"
    }
   ],
   "source": [
    "stemmed_data[0]\n",
    "\n",
    "# cleanex = pd.DataFrame(cleaned_data)\n",
    "# cleanex.to_csv('cleaned.csv')\n",
    "# stemex = pd.DataFrame(stemmed_data)\n",
    "# stemex.to_csv('stemmed.csv')"
   ]
  },
  {
   "cell_type": "code",
   "execution_count": 6,
   "metadata": {},
   "outputs": [],
   "source": [
    "lemmatizer = WordNetLemmatizer()\n",
    "lemma_data = []\n",
    "for sentence in cleaned_data:\n",
    "    lemma_data.append(' '.join([lemmatizer.lemmatize(word=word) for word in sentence.split()]))"
   ]
  },
  {
   "cell_type": "code",
   "execution_count": 7,
   "metadata": {},
   "outputs": [
    {
     "data": {
      "text/plain": [
       "\"look face, wonderful face mean something special look way smile see lucky one fellow be? kind girl, make feel fine could ever believe could mine? kind girl, without i'm blue ever leaf could do, could do? go walk park hold squeeze hand we'll go walking hour talking thing plan kind girl, make feel fine could ever believe could mine? kind girl, without i'm blue ever leaf could do, could do?\""
      ]
     },
     "execution_count": 7,
     "metadata": {},
     "output_type": "execute_result"
    }
   ],
   "source": [
    "lemma_data[0]\n",
    "# lemmax = pd.DataFrame(lemma_data)\n",
    "# lemmax.to_csv('lemma_data.csv')"
   ]
  },
  {
   "cell_type": "code",
   "execution_count": 8,
   "metadata": {},
   "outputs": [],
   "source": [
    "from sklearn.feature_extraction.text import CountVectorizer,TfidfTransformer\n",
    "vectorizer = CountVectorizer()"
   ]
  },
  {
   "cell_type": "code",
   "execution_count": 9,
   "metadata": {},
   "outputs": [
    {
     "data": {
      "text/plain": [
       "(1, 68716)"
      ]
     },
     "execution_count": 9,
     "metadata": {},
     "output_type": "execute_result"
    }
   ],
   "source": [
    "import numpy as np\n",
    "bag = vectorizer.fit_transform(np.array(stemmed_data))\n",
    "count_array = list(bag)\n",
    "count_array[40].shape\n"
   ]
  },
  {
   "cell_type": "code",
   "execution_count": 10,
   "metadata": {},
   "outputs": [
    {
     "data": {
      "text/plain": [
       "array([[0, 0, 0, ..., 0, 0, 0]])"
      ]
     },
     "execution_count": 10,
     "metadata": {},
     "output_type": "execute_result"
    }
   ],
   "source": [
    "count_array[0].toarray()[count_array[0].toarray() == 1]\n",
    "count_array[0].toarray()\n",
    "\n"
   ]
  },
  {
   "cell_type": "code",
   "execution_count": 11,
   "metadata": {},
   "outputs": [],
   "source": [
    "from sklearn.decomposition import PCA,SparsePCA,TruncatedSVD\n",
    "from sklearn.preprocessing import StandardScaler\n",
    "pca = SparsePCA(n_components=2,random_state=11,tol=1e-04)\n",
    "scaler = StandardScaler(with_mean=True, with_std=True,)\n",
    "# sd = pca.fit_transform(scaler.fit_transform(count_array[0].toarray()))\n",
    "sample_len = 1001\n",
    "sample = np.array([count_array[i].toarray() for i in range(sample_len)]).reshape((sample_len,-1))"
   ]
  },
  {
   "cell_type": "code",
   "execution_count": 12,
   "metadata": {},
   "outputs": [
    {
     "data": {
      "text/plain": [
       "array([[0, 0, 0, ..., 0, 0, 0],\n",
       "       [0, 0, 0, ..., 0, 0, 0],\n",
       "       [0, 0, 0, ..., 0, 0, 0],\n",
       "       ...,\n",
       "       [0, 0, 0, ..., 0, 0, 0],\n",
       "       [0, 0, 0, ..., 0, 0, 0],\n",
       "       [0, 0, 0, ..., 0, 0, 0]])"
      ]
     },
     "execution_count": 12,
     "metadata": {},
     "output_type": "execute_result"
    }
   ],
   "source": [
    "sample\n"
   ]
  },
  {
   "cell_type": "code",
   "execution_count": 13,
   "metadata": {},
   "outputs": [],
   "source": [
    "scaled_sample = scaler.fit_transform(sample)\n",
    "pca_sample = pca.fit_transform(scaled_sample)"
   ]
  },
  {
   "cell_type": "code",
   "execution_count": 14,
   "metadata": {},
   "outputs": [
    {
     "name": "stderr",
     "output_type": "stream",
     "text": [
      "No artists with labels found to put in legend.  Note that artists whose label start with an underscore are ignored when legend() is called with no argument.\n"
     ]
    },
    {
     "data": {
      "text/plain": [
       "<matplotlib.legend.Legend at 0x7f1223dceed0>"
      ]
     },
     "execution_count": 14,
     "metadata": {},
     "output_type": "execute_result"
    },
    {
     "data": {
      "image/png": "[encoded data removed]",
      "text/plain": [
       "<Figure size 1000x800 with 1 Axes>"
      ]
     },
     "metadata": {},
     "output_type": "display_data"
    }
   ],
   "source": [
    "import matplotlib.pyplot as plt\n",
    "\n",
    "fig = plt.figure(figsize=(10,8))\n",
    "plt.scatter(pca_sample[:,0],pca_sample[:,1],color='green',marker='s')\n",
    "plt.xlim([-0.5,4])\n",
    "plt.ylim([-0.9,10])\n",
    "plt.title('Sparse PCA Decomposition for 1000 samples')\n",
    "plt.xlabel('PCA_1')\n",
    "plt.ylabel('PCA_2')\n",
    "plt.legend(loc='lower right')"
   ]
  },
  {
   "cell_type": "code",
   "execution_count": 15,
   "metadata": {},
   "outputs": [],
   "source": [
    "from nltk.corpus import stopwords\n",
    "def preprocess_text(df,stem=True):\n",
    "    data = df.text.to_list()\n",
    "    stop_words = set(stopwords.words('english'))\n",
    "    cleaned_data = []\n",
    "    for sentence in data:\n",
    "        cleaned_data.append(' '.join([word.lower() for word in sentence.split() if word.lower() not in stop_words]))\n",
    "    if stem:\n",
    "        stem = LancasterStemmer()\n",
    "        processed_data = []\n",
    "        for sentence in cleaned_data:\n",
    "            processed_data.append(''.join([stem.stem(word=word) for word in sentence]))\n",
    "    else:\n",
    "        lemmatizer = WordNetLemmatizer()\n",
    "        processed_data = []\n",
    "        for sentence in cleaned_data:\n",
    "            processed_data.append(' '.join([lemmatizer.lemmatize(word=word) for word in sentence.split()]))\n",
    "    vectorizer = CountVectorizer()\n",
    "    bag = vectorizer.fit_transform(np.array(processed_data))\n",
    "    count_array = list(bag)\n",
    "    pca = SparsePCA(n_components=2,random_state=11,tol=1e-04)\n",
    "    scaler = StandardScaler(with_mean=True, with_std=True,)\n",
    "    \n",
    "    start = 1000\n",
    "    sample = np.array([count_array[i].toarray() for i in range(start)]).reshape((start,-1))\n",
    "    scaled_sample = scaler.fit_transform(sample)\n",
    "    df = pca.fit_transform(scaled_sample)\n",
    "    sample_len = 2000\n",
    "    while sample_len < 2001: \n",
    "    # while sample_len < len(processed_data):\n",
    "        print(f'Iterating through text {start} - {sample_len} of the data....')\n",
    "        sample = np.array([count_array[i].toarray() for i in range(start,sample_len)]).reshape((1000,-1))\n",
    "        scaled_sample = scaler.fit_transform(sample)\n",
    "        pca_sample = pca.fit_transform(scaled_sample)\n",
    "        df = np.vstack((df,pca_sample))\n",
    "        start += 1000\n",
    "        sample_len += 1000\n",
    "        \n",
    "    print(f'Iterating through the last text of the data....')\n",
    "    sample_len = len(processed_data)\n",
    "    shape = sample_len-start\n",
    "    sample = np.array([count_array[i].toarray() for i in range(start,sample_len)]).reshape((shape,-1))\n",
    "    scaled_sample = scaler.fit_transform(sample)\n",
    "    pca_sample = pca.fit_transform(scaled_sample)\n",
    "    df = np.vstack((df,pca_sample))\n",
    "    \n",
    "    return df\n",
    "    "
   ]
  },
  {
   "cell_type": "code",
   "execution_count": null,
   "metadata": {},
   "outputs": [
    {
     "name": "stdout",
     "output_type": "stream",
     "text": [
      "Iterating through text 1000 - 2000 of the data....\n",
      "Iterating through the last text of the data....\n"
     ]
    }
   ],
   "source": [
    "df = preprocess_text(df,stem=True)\n",
    "dfx = pd.DataFrame(df)\n",
    "dfx.to_csv('dfx.csv')"
   ]
  },
  {
   "cell_type": "code",
   "execution_count": null,
   "metadata": {},
   "outputs": [],
   "source": [
    "len(cleaned_data)\n"
   ]
  },
  {
   "cell_type": "code",
   "execution_count": null,
   "metadata": {},
   "outputs": [],
   "source": [
    "fig = plt.figure(figsize=(10,8))\n",
    "plt.scatter(df[:,0],df[:,1],color='green',marker='s')\n",
    "# plt.xlim([-2,4])\n",
    "# plt.ylim([-2,10])\n",
    "plt.title('Sparse PCA Decomposition for 1000 samples')\n",
    "plt.xlabel('PCA_1')\n",
    "plt.ylabel('PCA_2')\n",
    "plt.legend(loc='lower right')"
   ]
  },
  {
   "cell_type": "code",
   "execution_count": null,
   "metadata": {},
   "outputs": [],
   "source": [
    "fig = plt.figure(figsize=(10,8))\n",
    "plt.scatter(df[:,0],df[:,1],color='green',marker='s',edgecolor='black')\n",
    "plt.xlim([-15,100])\n",
    "plt.ylim([-50,100])\n",
    "plt.title('Sparse PCA Decomposition for 1000 samples')\n",
    "plt.xlabel('PCA_1')\n",
    "plt.ylabel('PCA_2')\n",
    "plt.grid()\n",
    "plt.legend(loc='lower right')"
   ]
  },
  {
   "cell_type": "code",
   "execution_count": null,
   "metadata": {},
   "outputs": [],
   "source": [
    "from sklearn.cluster import KMeans,AgglomerativeClustering,DBSCAN\n",
    "from scipy.cluster.hierarchy import linkage,dendrogram\n",
    "from scipy.spatial.distance import pdist"
   ]
  },
  {
   "cell_type": "code",
   "execution_count": null,
   "metadata": {},
   "outputs": [],
   "source": [
    "X = df\n",
    "\n",
    "k = 3\n",
    "agglo_complete = AgglomerativeClustering(linkage='complete',n_clusters = k).fit(X)\n",
    "y_km = km_plus.fit_predict(df)\n",
    "unique_labels = set(km_plus.labels_)\n",
    "unique_labels = set(agglo_complete.labels_)\n",
    "colors = [plt.cm.Spectral(each)\n",
    "          for each in np.linspace(0, 1, len(unique_labels))]\n",
    "for k, col in zip(unique_labels, colors):\n",
    "\n",
    "    agglo_complete_labels = (agglo_complete.labels_ == k)\n",
    "\n",
    "    xy = X[agglo_complete_labels]\n",
    "    plt.plot(xy[:, 0], xy[:, 1], 'o', markerfacecolor=tuple(col),\n",
    "             markeredgecolor='k', markersize=6)\n",
    "\n",
    "plt.title('Complete linkage: %d' % agglo_complete.n_clusters)\n",
    "plt.subplot(2, 2, 4)\n"
   ]
  }
 ],
 "metadata": {
  "kernelspec": {
   "display_name": "Python 3 (ipykernel)",
   "language": "python",
   "name": "python3"
  },
  "language_info": {
   "codemirror_mode": {
    "name": "ipython",
    "version": 3
   },
   "file_extension": ".py",
   "mimetype": "text/x-python",
   "name": "python",
   "nbconvert_exporter": "python",
   "pygments_lexer": "ipython3",
   "version": "3.11.5"
  }
 },
 "nbformat": 4,
 "nbformat_minor": 4
}
